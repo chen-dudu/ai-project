{
 "cells": [
  {
   "cell_type": "markdown",
   "metadata": {
    "toc": true
   },
   "source": [
    "<h1>Table of Contents<span class=\"tocSkip\"></span></h1>\n",
    "<div class=\"toc\"><ul class=\"toc-item\"><li><span><a href=\"#COMP30024-Artificial-Intelligence-Project-1-Report\" data-toc-modified-id=\"COMP30024-Artificial-Intelligence-Project-1-Report-1\"><span class=\"toc-item-num\">1&nbsp;&nbsp;</span>COMP30024 Artificial Intelligence Project 1 Report</a></span><ul class=\"toc-item\"><li><span><a href=\"#import\" data-toc-modified-id=\"import-1.1\"><span class=\"toc-item-num\">1.1&nbsp;&nbsp;</span>import</a></span></li><li><span><a href=\"#test-files\" data-toc-modified-id=\"test-files-1.2\"><span class=\"toc-item-num\">1.2&nbsp;&nbsp;</span>test files</a></span></li><li><span><a href=\"#run-test\" data-toc-modified-id=\"run-test-1.3\"><span class=\"toc-item-num\">1.3&nbsp;&nbsp;</span>run test</a></span></li></ul></li></ul></div>"
   ]
  },
  {
   "cell_type": "markdown",
   "metadata": {},
   "source": [
    "# COMP30024 Artificial Intelligence Project 1 Report"
   ]
  },
  {
   "cell_type": "code",
   "execution_count": null,
   "metadata": {},
   "outputs": [],
   "source": []
  },
  {
   "cell_type": "markdown",
   "metadata": {},
   "source": [
    "## import"
   ]
  },
  {
   "cell_type": "code",
   "execution_count": 15,
   "metadata": {
    "ExecuteTime": {
     "end_time": "2019-03-19T02:41:16.096874Z",
     "start_time": "2019-03-19T02:41:16.092885Z"
    }
   },
   "outputs": [],
   "source": [
    "import State\n",
    "import timeit\n",
    "\n",
    "from search import read_state_from_json, a_star_search"
   ]
  },
  {
   "cell_type": "code",
   "execution_count": null,
   "metadata": {},
   "outputs": [],
   "source": []
  },
  {
   "cell_type": "code",
   "execution_count": null,
   "metadata": {},
   "outputs": [],
   "source": []
  },
  {
   "cell_type": "markdown",
   "metadata": {},
   "source": [
    "## test files"
   ]
  },
  {
   "cell_type": "code",
   "execution_count": 17,
   "metadata": {
    "ExecuteTime": {
     "end_time": "2019-03-19T02:41:26.584863Z",
     "start_time": "2019-03-19T02:41:26.580874Z"
    }
   },
   "outputs": [],
   "source": [
    "DIRECTORY = \"./input\"\n",
    "FILE_COMMON = \"/sample\"\n",
    "JSON = \".json\""
   ]
  },
  {
   "cell_type": "code",
   "execution_count": 18,
   "metadata": {
    "ExecuteTime": {
     "end_time": "2019-03-19T02:41:27.288230Z",
     "start_time": "2019-03-19T02:41:27.284243Z"
    }
   },
   "outputs": [],
   "source": [
    "files = [DIRECTORY + FILE_COMMON + str(i) + JSON for i in range(1, 5)]"
   ]
  },
  {
   "cell_type": "code",
   "execution_count": null,
   "metadata": {},
   "outputs": [],
   "source": []
  },
  {
   "cell_type": "markdown",
   "metadata": {},
   "source": [
    "## run test"
   ]
  },
  {
   "cell_type": "code",
   "execution_count": 31,
   "metadata": {
    "ExecuteTime": {
     "end_time": "2019-03-19T02:47:20.339199Z",
     "start_time": "2019-03-19T02:47:20.332236Z"
    }
   },
   "outputs": [],
   "source": [
    "def wrapper(func, *args, **kwargs):\n",
    "    def wrapped():\n",
    "        return func(*args, **kwargs)\n",
    "    return wrapped"
   ]
  },
  {
   "cell_type": "code",
   "execution_count": 44,
   "metadata": {
    "ExecuteTime": {
     "end_time": "2019-03-19T02:54:51.370371Z",
     "start_time": "2019-03-19T02:53:34.633561Z"
    }
   },
   "outputs": [
    {
     "name": "stdout",
     "output_type": "stream",
     "text": [
      "44.22321583231508\n",
      "0.2264581325356403\n",
      "0.4587243986463818\n",
      "31.821317567826327\n"
     ]
    }
   ],
   "source": [
    "for file in files:\n",
    "    def my_test():\n",
    "        a_star_search(read_state_from_json(file))\n",
    "    \n",
    "    print(timeit.timeit(my_test, number=10))"
   ]
  },
  {
   "cell_type": "code",
   "execution_count": null,
   "metadata": {},
   "outputs": [],
   "source": []
  },
  {
   "cell_type": "code",
   "execution_count": null,
   "metadata": {},
   "outputs": [],
   "source": []
  }
 ],
 "metadata": {
  "hide_input": false,
  "kernelspec": {
   "display_name": "Python 3",
   "language": "python",
   "name": "python3"
  },
  "language_info": {
   "codemirror_mode": {
    "name": "ipython",
    "version": 3
   },
   "file_extension": ".py",
   "mimetype": "text/x-python",
   "name": "python",
   "nbconvert_exporter": "python",
   "pygments_lexer": "ipython3",
   "version": "3.6.3"
  },
  "toc": {
   "nav_menu": {},
   "number_sections": true,
   "sideBar": true,
   "skip_h1_title": false,
   "title_cell": "Table of Contents",
   "title_sidebar": "Contents",
   "toc_cell": true,
   "toc_position": {},
   "toc_section_display": true,
   "toc_window_display": false
  }
 },
 "nbformat": 4,
 "nbformat_minor": 2
}
