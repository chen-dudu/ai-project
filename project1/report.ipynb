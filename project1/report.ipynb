{
 "cells": [
  {
   "cell_type": "markdown",
   "metadata": {
    "toc": true
   },
   "source": [
    "<h1>Table of Contents<span class=\"tocSkip\"></span></h1>\n",
    "<div class=\"toc\"><ul class=\"toc-item\"><li><span><a href=\"#COMP30024-Artificial-Intelligence-Project-1-Report\" data-toc-modified-id=\"COMP30024-Artificial-Intelligence-Project-1-Report-1\"><span class=\"toc-item-num\">1&nbsp;&nbsp;</span>COMP30024 Artificial Intelligence Project 1 Report</a></span><ul class=\"toc-item\"><li><span><a href=\"#import\" data-toc-modified-id=\"import-1.1\"><span class=\"toc-item-num\">1.1&nbsp;&nbsp;</span>import</a></span></li><li><span><a href=\"#new-analysis\" data-toc-modified-id=\"new-analysis-1.2\"><span class=\"toc-item-num\">1.2&nbsp;&nbsp;</span>new analysis</a></span><ul class=\"toc-item\"><li><span><a href=\"#generate-all-test-case\" data-toc-modified-id=\"generate-all-test-case-1.2.1\"><span class=\"toc-item-num\">1.2.1&nbsp;&nbsp;</span>generate all test case</a></span></li><li><span><a href=\"#store-output\" data-toc-modified-id=\"store-output-1.2.2\"><span class=\"toc-item-num\">1.2.2&nbsp;&nbsp;</span>store output</a></span></li><li><span><a href=\"#draw-graph\" data-toc-modified-id=\"draw-graph-1.2.3\"><span class=\"toc-item-num\">1.2.3&nbsp;&nbsp;</span>draw graph</a></span></li></ul></li></ul></li></ul></div>"
   ]
  },
  {
   "cell_type": "markdown",
   "metadata": {},
   "source": [
    "# COMP30024 Artificial Intelligence Project 1 Report"
   ]
  },
  {
   "cell_type": "code",
   "execution_count": null,
   "metadata": {},
   "outputs": [],
   "source": []
  },
  {
   "cell_type": "markdown",
   "metadata": {},
   "source": [
    "## import"
   ]
  },
  {
   "cell_type": "code",
   "execution_count": 1,
   "metadata": {
    "ExecuteTime": {
     "end_time": "2019-04-03T22:03:58.744872Z",
     "start_time": "2019-04-03T22:03:58.344913Z"
    }
   },
   "outputs": [],
   "source": [
    "import pandas as pd\n",
    "import numpy as np\n",
    "import glob\n",
    "import os\n",
    "import timeit\n",
    "from subprocess import call\n",
    "import subprocess\n",
    "import json"
   ]
  },
  {
   "cell_type": "code",
   "execution_count": null,
   "metadata": {},
   "outputs": [],
   "source": []
  },
  {
   "cell_type": "code",
   "execution_count": null,
   "metadata": {},
   "outputs": [],
   "source": []
  },
  {
   "cell_type": "markdown",
   "metadata": {},
   "source": [
    "## new analysis"
   ]
  },
  {
   "cell_type": "code",
   "execution_count": 2,
   "metadata": {
    "ExecuteTime": {
     "end_time": "2019-04-03T11:10:03.317672Z",
     "start_time": "2019-04-03T11:10:03.314652Z"
    }
   },
   "outputs": [],
   "source": [
    "# root = 'C:\\\\Users\\\\53421\\\\PycharmProjects\\\\ai-project\\\\project1'\n",
    "# root = \"e://backup/code/python/ai-project/project1\"\n",
    "# os.chdir(root)"
   ]
  },
  {
   "cell_type": "markdown",
   "metadata": {},
   "source": [
    "### generate all test case"
   ]
  },
  {
   "cell_type": "code",
   "execution_count": null,
   "metadata": {},
   "outputs": [],
   "source": []
  },
  {
   "cell_type": "markdown",
   "metadata": {},
   "source": [
    "### store output"
   ]
  },
  {
   "cell_type": "markdown",
   "metadata": {},
   "source": [
    "DataFrame: #piece, #block, avg b, d, relative error, runtime, space"
   ]
  },
  {
   "cell_type": "markdown",
   "metadata": {
    "ExecuteTime": {
     "end_time": "2019-04-03T12:08:13.271280Z",
     "start_time": "2019-04-03T12:08:07.754361Z"
    }
   },
   "source": [
    "time python data.py"
   ]
  },
  {
   "cell_type": "code",
   "execution_count": 5,
   "metadata": {
    "ExecuteTime": {
     "end_time": "2019-04-04T03:52:14.408796Z",
     "start_time": "2019-04-04T03:52:14.343981Z"
    },
    "scrolled": false
   },
   "outputs": [],
   "source": [
    "summary = pd.read_csv(\"out.csv\", sep=',', index_col=False)\n",
    "summary_clean = summary.drop(summary.columns[0], axis=1)"
   ]
  },
  {
   "cell_type": "code",
   "execution_count": 7,
   "metadata": {
    "ExecuteTime": {
     "end_time": "2019-04-04T03:52:37.667862Z",
     "start_time": "2019-04-04T03:52:37.615987Z"
    },
    "scrolled": true
   },
   "outputs": [
    {
     "data": {
      "text/html": [
       "<div>\n",
       "<style scoped>\n",
       "    .dataframe tbody tr th:only-of-type {\n",
       "        vertical-align: middle;\n",
       "    }\n",
       "\n",
       "    .dataframe tbody tr th {\n",
       "        vertical-align: top;\n",
       "    }\n",
       "\n",
       "    .dataframe thead th {\n",
       "        text-align: right;\n",
       "    }\n",
       "</style>\n",
       "<table border=\"1\" class=\"dataframe\">\n",
       "  <thead>\n",
       "    <tr style=\"text-align: right;\">\n",
       "      <th></th>\n",
       "      <th>Unnamed: 0</th>\n",
       "      <th>number of pieces</th>\n",
       "      <th>number of blocks</th>\n",
       "      <th>average branching factor</th>\n",
       "      <th>depth of search tree</th>\n",
       "      <th>relative error</th>\n",
       "      <th>runtime(in ms)</th>\n",
       "      <th>space used(in MB)</th>\n",
       "      <th>preprocess time(in ms)</th>\n",
       "      <th>file name</th>\n",
       "    </tr>\n",
       "  </thead>\n",
       "  <tbody>\n",
       "    <tr>\n",
       "      <th>223</th>\n",
       "      <td>223</td>\n",
       "      <td>1.0</td>\n",
       "      <td>7.0</td>\n",
       "      <td>1.466667</td>\n",
       "      <td>6.0</td>\n",
       "      <td>1.0</td>\n",
       "      <td>114.2618</td>\n",
       "      <td>8053.0</td>\n",
       "      <td>69.0727</td>\n",
       "      <td>./fullTestCase/1p/7b13.json</td>\n",
       "    </tr>\n",
       "  </tbody>\n",
       "</table>\n",
       "</div>"
      ],
      "text/plain": [
       "     Unnamed: 0  number of pieces  number of blocks  average branching factor  \\\n",
       "223         223               1.0               7.0                  1.466667   \n",
       "\n",
       "     depth of search tree  relative error  runtime(in ms)  space used(in MB)  \\\n",
       "223                   6.0             1.0        114.2618             8053.0   \n",
       "\n",
       "     preprocess time(in ms)                    file name  \n",
       "223                 69.0727  ./fullTestCase/1p/7b13.json  "
      ]
     },
     "execution_count": 7,
     "metadata": {},
     "output_type": "execute_result"
    }
   ],
   "source": [
    "summary_clean[summary_clean[\"runtime(in ms)\"] >= 30 * 1000]\n",
    "\n",
    "summary.sample(10)"
   ]
  },
  {
   "cell_type": "code",
   "execution_count": null,
   "metadata": {},
   "outputs": [],
   "source": []
  },
  {
   "cell_type": "code",
   "execution_count": null,
   "metadata": {},
   "outputs": [],
   "source": []
  },
  {
   "cell_type": "markdown",
   "metadata": {},
   "source": [
    "### draw graph"
   ]
  },
  {
   "cell_type": "code",
   "execution_count": null,
   "metadata": {},
   "outputs": [],
   "source": []
  },
  {
   "cell_type": "code",
   "execution_count": null,
   "metadata": {},
   "outputs": [],
   "source": []
  },
  {
   "cell_type": "code",
   "execution_count": null,
   "metadata": {},
   "outputs": [],
   "source": []
  }
 ],
 "metadata": {
  "hide_input": false,
  "kernelspec": {
   "display_name": "Python 3",
   "language": "python",
   "name": "python3"
  },
  "language_info": {
   "codemirror_mode": {
    "name": "ipython",
    "version": 3
   },
   "file_extension": ".py",
   "mimetype": "text/x-python",
   "name": "python",
   "nbconvert_exporter": "python",
   "pygments_lexer": "ipython3",
   "version": "3.6.3"
  },
  "toc": {
   "nav_menu": {},
   "number_sections": true,
   "sideBar": true,
   "skip_h1_title": false,
   "title_cell": "Table of Contents",
   "title_sidebar": "Contents",
   "toc_cell": true,
   "toc_position": {
    "height": "calc(100% - 180px)",
    "left": "10px",
    "top": "150px",
    "width": "186px"
   },
   "toc_section_display": true,
   "toc_window_display": true
  }
 },
 "nbformat": 4,
 "nbformat_minor": 2
}
