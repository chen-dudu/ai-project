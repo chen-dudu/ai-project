{
 "cells": [
  {
   "cell_type": "markdown",
   "metadata": {
    "toc": true
   },
   "source": [
    "<h1>Table of Contents<span class=\"tocSkip\"></span></h1>\n",
    "<div class=\"toc\"><ul class=\"toc-item\"><li><span><a href=\"#COMP30024-Artificial-Intelligence-Project-1-Report\" data-toc-modified-id=\"COMP30024-Artificial-Intelligence-Project-1-Report-1\"><span class=\"toc-item-num\">1&nbsp;&nbsp;</span>COMP30024 Artificial Intelligence Project 1 Report</a></span><ul class=\"toc-item\"><li><span><a href=\"#import\" data-toc-modified-id=\"import-1.1\"><span class=\"toc-item-num\">1.1&nbsp;&nbsp;</span>import</a></span></li><li><span><a href=\"#new-analysis\" data-toc-modified-id=\"new-analysis-1.2\"><span class=\"toc-item-num\">1.2&nbsp;&nbsp;</span>new analysis</a></span><ul class=\"toc-item\"><li><span><a href=\"#generate-all-test-case\" data-toc-modified-id=\"generate-all-test-case-1.2.1\"><span class=\"toc-item-num\">1.2.1&nbsp;&nbsp;</span>generate all test case</a></span></li><li><span><a href=\"#store-output\" data-toc-modified-id=\"store-output-1.2.2\"><span class=\"toc-item-num\">1.2.2&nbsp;&nbsp;</span>store output</a></span></li><li><span><a href=\"#draw-graph\" data-toc-modified-id=\"draw-graph-1.2.3\"><span class=\"toc-item-num\">1.2.3&nbsp;&nbsp;</span>draw graph</a></span></li></ul></li></ul></li></ul></div>"
   ]
  },
  {
   "cell_type": "markdown",
   "metadata": {},
   "source": [
    "# COMP30024 Artificial Intelligence Project 1 Report"
   ]
  },
  {
   "cell_type": "code",
   "execution_count": null,
   "metadata": {},
   "outputs": [],
   "source": []
  },
  {
   "cell_type": "markdown",
   "metadata": {},
   "source": [
    "## import"
   ]
  },
  {
   "cell_type": "code",
   "execution_count": 9,
   "metadata": {
    "ExecuteTime": {
     "end_time": "2019-04-04T04:04:51.365374Z",
     "start_time": "2019-04-04T04:04:51.360376Z"
    }
   },
   "outputs": [],
   "source": [
    "import pandas as pd\n",
    "import numpy as np\n",
    "import glob\n",
    "import os\n",
    "import timeit\n",
    "from subprocess import call\n",
    "import subprocess\n",
    "import json"
   ]
  },
  {
   "cell_type": "code",
   "execution_count": null,
   "metadata": {},
   "outputs": [],
   "source": []
  },
  {
   "cell_type": "code",
   "execution_count": null,
   "metadata": {},
   "outputs": [],
   "source": []
  },
  {
   "cell_type": "markdown",
   "metadata": {},
   "source": [
    "## new analysis"
   ]
  },
  {
   "cell_type": "code",
   "execution_count": 2,
   "metadata": {
    "ExecuteTime": {
     "end_time": "2019-04-03T11:10:03.317672Z",
     "start_time": "2019-04-03T11:10:03.314652Z"
    }
   },
   "outputs": [],
   "source": [
    "# root = 'C:\\\\Users\\\\53421\\\\PycharmProjects\\\\ai-project\\\\project1'\n",
    "# root = \"e://backup/code/python/ai-project/project1\"\n",
    "# os.chdir(root)"
   ]
  },
  {
   "cell_type": "markdown",
   "metadata": {},
   "source": [
    "### generate all test case"
   ]
  },
  {
   "cell_type": "code",
   "execution_count": null,
   "metadata": {},
   "outputs": [],
   "source": []
  },
  {
   "cell_type": "markdown",
   "metadata": {},
   "source": [
    "### store output"
   ]
  },
  {
   "cell_type": "markdown",
   "metadata": {},
   "source": [
    "DataFrame: #piece, #block, avg b, d, relative error, runtime, space"
   ]
  },
  {
   "cell_type": "markdown",
   "metadata": {
    "ExecuteTime": {
     "end_time": "2019-04-03T12:08:13.271280Z",
     "start_time": "2019-04-03T12:08:07.754361Z"
    }
   },
   "source": [
    "time python data.py"
   ]
  },
  {
   "cell_type": "code",
   "execution_count": 10,
   "metadata": {
    "ExecuteTime": {
     "end_time": "2019-04-04T04:04:55.191076Z",
     "start_time": "2019-04-04T04:04:55.169169Z"
    },
    "scrolled": false
   },
   "outputs": [],
   "source": [
    "summary = pd.read_csv(\"out.csv\", sep=',', index_col=False)\n",
    "summary_clean = summary.drop(summary.columns[0], axis=1)"
   ]
  },
  {
   "cell_type": "code",
   "execution_count": 11,
   "metadata": {
    "ExecuteTime": {
     "end_time": "2019-04-04T04:04:55.984033Z",
     "start_time": "2019-04-04T04:04:55.964088Z"
    },
    "scrolled": true
   },
   "outputs": [
    {
     "data": {
      "text/html": [
       "<div>\n",
       "<style scoped>\n",
       "    .dataframe tbody tr th:only-of-type {\n",
       "        vertical-align: middle;\n",
       "    }\n",
       "\n",
       "    .dataframe tbody tr th {\n",
       "        vertical-align: top;\n",
       "    }\n",
       "\n",
       "    .dataframe thead th {\n",
       "        text-align: right;\n",
       "    }\n",
       "</style>\n",
       "<table border=\"1\" class=\"dataframe\">\n",
       "  <thead>\n",
       "    <tr style=\"text-align: right;\">\n",
       "      <th></th>\n",
       "      <th>Unnamed: 0</th>\n",
       "      <th>number of pieces</th>\n",
       "      <th>number of blocks</th>\n",
       "      <th>average branching factor</th>\n",
       "      <th>depth of search tree</th>\n",
       "      <th>relative error</th>\n",
       "      <th>runtime(in ms)</th>\n",
       "      <th>space used(in MB)</th>\n",
       "      <th>preprocess time(in ms)</th>\n",
       "      <th>file name</th>\n",
       "    </tr>\n",
       "  </thead>\n",
       "  <tbody>\n",
       "    <tr>\n",
       "      <th>466</th>\n",
       "      <td>466</td>\n",
       "      <td>1.0</td>\n",
       "      <td>15.0</td>\n",
       "      <td>1.000000</td>\n",
       "      <td>1.0</td>\n",
       "      <td>0.0</td>\n",
       "      <td>121.1016</td>\n",
       "      <td>8053.0</td>\n",
       "      <td>69.7353</td>\n",
       "      <td>./fullTestCase/1p/15b17.json</td>\n",
       "    </tr>\n",
       "    <tr>\n",
       "      <th>976</th>\n",
       "      <td>976</td>\n",
       "      <td>2.0</td>\n",
       "      <td>5.0</td>\n",
       "      <td>3.238806</td>\n",
       "      <td>8.0</td>\n",
       "      <td>1.0</td>\n",
       "      <td>172.7105</td>\n",
       "      <td>8053.0</td>\n",
       "      <td>103.0463</td>\n",
       "      <td>./fullTestCase/2p/5b18.json</td>\n",
       "    </tr>\n",
       "    <tr>\n",
       "      <th>2348</th>\n",
       "      <td>2348</td>\n",
       "      <td>4.0</td>\n",
       "      <td>0.0</td>\n",
       "      <td>4.357877</td>\n",
       "      <td>13.0</td>\n",
       "      <td>2.0</td>\n",
       "      <td>579.7255</td>\n",
       "      <td>8053.0</td>\n",
       "      <td>72.1173</td>\n",
       "      <td>./fullTestCase/4p/0b17.json</td>\n",
       "    </tr>\n",
       "    <tr>\n",
       "      <th>541</th>\n",
       "      <td>541</td>\n",
       "      <td>1.0</td>\n",
       "      <td>18.0</td>\n",
       "      <td>2.000000</td>\n",
       "      <td>2.0</td>\n",
       "      <td>0.0</td>\n",
       "      <td>118.7083</td>\n",
       "      <td>8053.0</td>\n",
       "      <td>71.9532</td>\n",
       "      <td>./fullTestCase/1p/18b6.json</td>\n",
       "    </tr>\n",
       "    <tr>\n",
       "      <th>2808</th>\n",
       "      <td>2808</td>\n",
       "      <td>4.0</td>\n",
       "      <td>16.0</td>\n",
       "      <td>4.326705</td>\n",
       "      <td>15.0</td>\n",
       "      <td>0.0</td>\n",
       "      <td>302.9946</td>\n",
       "      <td>8053.0</td>\n",
       "      <td>68.9297</td>\n",
       "      <td>./fullTestCase/4p/16b0.json</td>\n",
       "    </tr>\n",
       "    <tr>\n",
       "      <th>2572</th>\n",
       "      <td>2572</td>\n",
       "      <td>4.0</td>\n",
       "      <td>8.0</td>\n",
       "      <td>4.539326</td>\n",
       "      <td>12.0</td>\n",
       "      <td>0.0</td>\n",
       "      <td>162.7892</td>\n",
       "      <td>8053.0</td>\n",
       "      <td>69.5829</td>\n",
       "      <td>./fullTestCase/4p/8b1.json</td>\n",
       "    </tr>\n",
       "    <tr>\n",
       "      <th>2671</th>\n",
       "      <td>2671</td>\n",
       "      <td>4.0</td>\n",
       "      <td>11.0</td>\n",
       "      <td>3.593023</td>\n",
       "      <td>13.0</td>\n",
       "      <td>2.0</td>\n",
       "      <td>310.6447</td>\n",
       "      <td>8053.0</td>\n",
       "      <td>71.4318</td>\n",
       "      <td>./fullTestCase/4p/11b11.json</td>\n",
       "    </tr>\n",
       "    <tr>\n",
       "      <th>767</th>\n",
       "      <td>767</td>\n",
       "      <td>1.0</td>\n",
       "      <td>29.0</td>\n",
       "      <td>1.500000</td>\n",
       "      <td>2.0</td>\n",
       "      <td>0.0</td>\n",
       "      <td>111.2661</td>\n",
       "      <td>8053.0</td>\n",
       "      <td>70.1459</td>\n",
       "      <td>./fullTestCase/1p/29b2.json</td>\n",
       "    </tr>\n",
       "    <tr>\n",
       "      <th>730</th>\n",
       "      <td>730</td>\n",
       "      <td>1.0</td>\n",
       "      <td>26.0</td>\n",
       "      <td>1.800000</td>\n",
       "      <td>5.0</td>\n",
       "      <td>1.0</td>\n",
       "      <td>113.4833</td>\n",
       "      <td>8053.0</td>\n",
       "      <td>68.2350</td>\n",
       "      <td>./fullTestCase/1p/26b2.json</td>\n",
       "    </tr>\n",
       "    <tr>\n",
       "      <th>1974</th>\n",
       "      <td>1974</td>\n",
       "      <td>3.0</td>\n",
       "      <td>13.0</td>\n",
       "      <td>3.653846</td>\n",
       "      <td>9.0</td>\n",
       "      <td>0.0</td>\n",
       "      <td>127.0549</td>\n",
       "      <td>8053.0</td>\n",
       "      <td>70.0208</td>\n",
       "      <td>./fullTestCase/3p/13b2.json</td>\n",
       "    </tr>\n",
       "  </tbody>\n",
       "</table>\n",
       "</div>"
      ],
      "text/plain": [
       "      Unnamed: 0  number of pieces  number of blocks  \\\n",
       "466          466               1.0              15.0   \n",
       "976          976               2.0               5.0   \n",
       "2348        2348               4.0               0.0   \n",
       "541          541               1.0              18.0   \n",
       "2808        2808               4.0              16.0   \n",
       "2572        2572               4.0               8.0   \n",
       "2671        2671               4.0              11.0   \n",
       "767          767               1.0              29.0   \n",
       "730          730               1.0              26.0   \n",
       "1974        1974               3.0              13.0   \n",
       "\n",
       "      average branching factor  depth of search tree  relative error  \\\n",
       "466                   1.000000                   1.0             0.0   \n",
       "976                   3.238806                   8.0             1.0   \n",
       "2348                  4.357877                  13.0             2.0   \n",
       "541                   2.000000                   2.0             0.0   \n",
       "2808                  4.326705                  15.0             0.0   \n",
       "2572                  4.539326                  12.0             0.0   \n",
       "2671                  3.593023                  13.0             2.0   \n",
       "767                   1.500000                   2.0             0.0   \n",
       "730                   1.800000                   5.0             1.0   \n",
       "1974                  3.653846                   9.0             0.0   \n",
       "\n",
       "      runtime(in ms)  space used(in MB)  preprocess time(in ms)  \\\n",
       "466         121.1016             8053.0                 69.7353   \n",
       "976         172.7105             8053.0                103.0463   \n",
       "2348        579.7255             8053.0                 72.1173   \n",
       "541         118.7083             8053.0                 71.9532   \n",
       "2808        302.9946             8053.0                 68.9297   \n",
       "2572        162.7892             8053.0                 69.5829   \n",
       "2671        310.6447             8053.0                 71.4318   \n",
       "767         111.2661             8053.0                 70.1459   \n",
       "730         113.4833             8053.0                 68.2350   \n",
       "1974        127.0549             8053.0                 70.0208   \n",
       "\n",
       "                         file name  \n",
       "466   ./fullTestCase/1p/15b17.json  \n",
       "976    ./fullTestCase/2p/5b18.json  \n",
       "2348   ./fullTestCase/4p/0b17.json  \n",
       "541    ./fullTestCase/1p/18b6.json  \n",
       "2808   ./fullTestCase/4p/16b0.json  \n",
       "2572    ./fullTestCase/4p/8b1.json  \n",
       "2671  ./fullTestCase/4p/11b11.json  \n",
       "767    ./fullTestCase/1p/29b2.json  \n",
       "730    ./fullTestCase/1p/26b2.json  \n",
       "1974   ./fullTestCase/3p/13b2.json  "
      ]
     },
     "execution_count": 11,
     "metadata": {},
     "output_type": "execute_result"
    }
   ],
   "source": [
    "summary_clean[summary_clean[\"runtime(in ms)\"] >= 30 * 1000]\n",
    "\n",
    "summary.sample(10)"
   ]
  },
  {
   "cell_type": "code",
   "execution_count": null,
   "metadata": {},
   "outputs": [],
   "source": []
  },
  {
   "cell_type": "code",
   "execution_count": null,
   "metadata": {},
   "outputs": [],
   "source": []
  },
  {
   "cell_type": "markdown",
   "metadata": {},
   "source": [
    "### draw graph"
   ]
  },
  {
   "cell_type": "code",
   "execution_count": null,
   "metadata": {},
   "outputs": [],
   "source": []
  },
  {
   "cell_type": "code",
   "execution_count": null,
   "metadata": {},
   "outputs": [],
   "source": []
  },
  {
   "cell_type": "code",
   "execution_count": null,
   "metadata": {},
   "outputs": [],
   "source": []
  }
 ],
 "metadata": {
  "hide_input": false,
  "kernelspec": {
   "display_name": "Python 3",
   "language": "python",
   "name": "python3"
  },
  "language_info": {
   "codemirror_mode": {
    "name": "ipython",
    "version": 3
   },
   "file_extension": ".py",
   "mimetype": "text/x-python",
   "name": "python",
   "nbconvert_exporter": "python",
   "pygments_lexer": "ipython3",
   "version": "3.6.3"
  },
  "toc": {
   "nav_menu": {},
   "number_sections": true,
   "sideBar": true,
   "skip_h1_title": false,
   "title_cell": "Table of Contents",
   "title_sidebar": "Contents",
   "toc_cell": true,
   "toc_position": {
    "height": "calc(100% - 180px)",
    "left": "10px",
    "top": "150px",
    "width": "186px"
   },
   "toc_section_display": true,
   "toc_window_display": true
  }
 },
 "nbformat": 4,
 "nbformat_minor": 2
}
