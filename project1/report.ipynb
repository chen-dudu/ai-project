{
 "cells": [
  {
   "cell_type": "markdown",
   "metadata": {
    "toc": true
   },
   "source": [
    "<h1>Table of Contents<span class=\"tocSkip\"></span></h1>\n",
    "<div class=\"toc\"><ul class=\"toc-item\"><li><span><a href=\"#COMP30024-Artificial-Intelligence-Project-1-Report\" data-toc-modified-id=\"COMP30024-Artificial-Intelligence-Project-1-Report-1\"><span class=\"toc-item-num\">1&nbsp;&nbsp;</span>COMP30024 Artificial Intelligence Project 1 Report</a></span><ul class=\"toc-item\"><li><span><a href=\"#import\" data-toc-modified-id=\"import-1.1\"><span class=\"toc-item-num\">1.1&nbsp;&nbsp;</span>import</a></span></li><li><span><a href=\"#test-files\" data-toc-modified-id=\"test-files-1.2\"><span class=\"toc-item-num\">1.2&nbsp;&nbsp;</span>test files</a></span></li><li><span><a href=\"#run-test\" data-toc-modified-id=\"run-test-1.3\"><span class=\"toc-item-num\">1.3&nbsp;&nbsp;</span>run test</a></span></li><li><span><a href=\"#draw-graph\" data-toc-modified-id=\"draw-graph-1.4\"><span class=\"toc-item-num\">1.4&nbsp;&nbsp;</span>draw graph</a></span><ul class=\"toc-item\"><li><span><a href=\"#a-star\" data-toc-modified-id=\"a-star-1.4.1\"><span class=\"toc-item-num\">1.4.1&nbsp;&nbsp;</span>a star</a></span></li><li><span><a href=\"#whole-program-run-time\" data-toc-modified-id=\"whole-program-run-time-1.4.2\"><span class=\"toc-item-num\">1.4.2&nbsp;&nbsp;</span>whole program run time</a></span></li></ul></li></ul></li></ul></div>"
   ]
  },
  {
   "cell_type": "markdown",
   "metadata": {},
   "source": [
    "# COMP30024 Artificial Intelligence Project 1 Report"
   ]
  },
  {
   "cell_type": "code",
   "execution_count": null,
   "metadata": {},
   "outputs": [],
   "source": []
  },
  {
   "cell_type": "markdown",
   "metadata": {},
   "source": [
    "## import"
   ]
  },
  {
   "cell_type": "code",
   "execution_count": 21,
   "metadata": {
    "ExecuteTime": {
     "end_time": "2019-03-23T06:24:45.986375Z",
     "start_time": "2019-03-23T06:24:45.981418Z"
    }
   },
   "outputs": [],
   "source": [
    "import State\n",
    "import timeit\n",
    "\n",
    "from search import read_state_from_json, a_star_search\n",
    "from subprocess import call"
   ]
  },
  {
   "cell_type": "code",
   "execution_count": null,
   "metadata": {},
   "outputs": [],
   "source": []
  },
  {
   "cell_type": "code",
   "execution_count": null,
   "metadata": {},
   "outputs": [],
   "source": []
  },
  {
   "cell_type": "markdown",
   "metadata": {},
   "source": [
    "## test files"
   ]
  },
  {
   "cell_type": "code",
   "execution_count": 7,
   "metadata": {
    "ExecuteTime": {
     "end_time": "2019-03-23T06:18:42.742446Z",
     "start_time": "2019-03-23T06:18:42.736462Z"
    }
   },
   "outputs": [],
   "source": [
    "DIRECTORY = \"./input\"\n",
    "ONE_PIECE = \"/one_piece\"\n",
    "FILE_COMMON = \"/depth\"\n",
    "JSON = \".json\"\n",
    "\n",
    "MAX_DEPTH = 10"
   ]
  },
  {
   "cell_type": "code",
   "execution_count": 8,
   "metadata": {
    "ExecuteTime": {
     "end_time": "2019-03-23T06:19:00.319532Z",
     "start_time": "2019-03-23T06:19:00.314547Z"
    }
   },
   "outputs": [],
   "source": [
    "files = [DIRECTORY + ONE_PIECE + FILE_COMMON + str(i) + JSON for i in range(1, MAX_DEPTH+1)]"
   ]
  },
  {
   "cell_type": "code",
   "execution_count": null,
   "metadata": {},
   "outputs": [],
   "source": []
  },
  {
   "cell_type": "markdown",
   "metadata": {},
   "source": [
    "## run test"
   ]
  },
  {
   "cell_type": "code",
   "execution_count": 50,
   "metadata": {
    "ExecuteTime": {
     "end_time": "2019-03-23T06:38:22.454922Z",
     "start_time": "2019-03-23T06:38:22.450895Z"
    }
   },
   "outputs": [],
   "source": [
    "N_iter = 10\n",
    "N_digit = 4\n",
    "PYTHON = \"python\"\n",
    "PYTHON_FILE = \"search.py\"\n"
   ]
  },
  {
   "cell_type": "code",
   "execution_count": 62,
   "metadata": {
    "ExecuteTime": {
     "end_time": "2019-03-23T06:44:22.820233Z",
     "start_time": "2019-03-23T06:44:15.250693Z"
    }
   },
   "outputs": [
    {
     "name": "stdout",
     "output_type": "stream",
     "text": [
      "70.7335 (ms)\n",
      "72.2231 (ms)\n",
      "75.0084 (ms)\n",
      "75.0269 (ms)\n",
      "75.5292 (ms)\n",
      "81.7777 (ms)\n",
      "79.9154 (ms)\n",
      "77.145 (ms)\n",
      "74.1454 (ms)\n",
      "74.2413 (ms)\n"
     ]
    }
   ],
   "source": [
    "total_run_time = []\n",
    "\n",
    "for file in files:\n",
    "    def total_test():\n",
    "        call([PYTHON, PYTHON_FILE, file])\n",
    "    \n",
    "    time = round(timeit.timeit(total_test, number=N_iter) / N_iter * 1000, N_digit)\n",
    "    print(time, \"(ms)\")\n",
    "    total_run_time.append(time)"
   ]
  },
  {
   "cell_type": "code",
   "execution_count": 54,
   "metadata": {
    "ExecuteTime": {
     "end_time": "2019-03-23T06:41:20.187464Z",
     "start_time": "2019-03-23T06:41:19.753644Z"
    }
   },
   "outputs": [
    {
     "name": "stdout",
     "output_type": "stream",
     "text": [
      "0.7172 (ms)\n",
      "1.1966 (ms)\n",
      "2.7377 (ms)\n",
      "4.7651 (ms)\n",
      "5.0512 (ms)\n",
      "5.3468 (ms)\n",
      "8.1668 (ms)\n",
      "7.0844 (ms)\n",
      "3.8756 (ms)\n",
      "3.3106 (ms)\n"
     ]
    }
   ],
   "source": [
    "a_star_time = []\n",
    "\n",
    "for file in files:\n",
    "    def a_star_test():\n",
    "        a_star_search(read_state_from_json(file))\n",
    "    \n",
    "    time = round(timeit.timeit(a_star_test, number=N_iter) / N_iter * 1000, N_digit)\n",
    "    print(time, \"(ms)\")\n",
    "    a_star_time.append(time)"
   ]
  },
  {
   "cell_type": "code",
   "execution_count": null,
   "metadata": {},
   "outputs": [],
   "source": []
  },
  {
   "cell_type": "code",
   "execution_count": null,
   "metadata": {},
   "outputs": [],
   "source": []
  },
  {
   "cell_type": "markdown",
   "metadata": {},
   "source": [
    "## draw graph"
   ]
  },
  {
   "cell_type": "markdown",
   "metadata": {},
   "source": [
    "### a star"
   ]
  },
  {
   "cell_type": "code",
   "execution_count": 56,
   "metadata": {
    "ExecuteTime": {
     "end_time": "2019-03-23T06:42:07.002367Z",
     "start_time": "2019-03-23T06:42:06.997368Z"
    }
   },
   "outputs": [],
   "source": [
    "import matplotlib.pyplot as plt\n",
    "import numpy as np"
   ]
  },
  {
   "cell_type": "code",
   "execution_count": 60,
   "metadata": {
    "ExecuteTime": {
     "end_time": "2019-03-23T06:42:39.408978Z",
     "start_time": "2019-03-23T06:42:39.404988Z"
    }
   },
   "outputs": [],
   "source": [
    "x = [i for i in np.arange(1, MAX_DEPTH+1)]\n",
    "y = a_star_time\n",
    "\n",
    "legend = [ONE_PIECE]"
   ]
  },
  {
   "cell_type": "code",
   "execution_count": 61,
   "metadata": {
    "ExecuteTime": {
     "end_time": "2019-03-23T06:42:40.338257Z",
     "start_time": "2019-03-23T06:42:40.222536Z"
    }
   },
   "outputs": [
    {
     "data": {
      "image/png": "[encoded data removed]",
      "text/plain": [
       "<matplotlib.figure.Figure at 0x606fcf0>"
      ]
     },
     "metadata": {},
     "output_type": "display_data"
    }
   ],
   "source": [
    "plt.plot(x, y)\n",
    "plt.xlabel('depth')\n",
    "plt.ylabel('time (ms)')\n",
    "plt.title('a star algorithm run time')\n",
    "plt.grid(True)\n",
    "plt.legend(legend)\n",
    "# plt.savefig(\"test.png\")\n",
    "plt.show()"
   ]
  },
  {
   "cell_type": "markdown",
   "metadata": {},
   "source": [
    "### whole program run time"
   ]
  },
  {
   "cell_type": "code",
   "execution_count": 63,
   "metadata": {
    "ExecuteTime": {
     "end_time": "2019-03-23T06:45:57.392420Z",
     "start_time": "2019-03-23T06:45:57.386452Z"
    }
   },
   "outputs": [],
   "source": [
    "x = [i for i in np.arange(1, MAX_DEPTH+1)]\n",
    "y = total_run_time\n",
    "\n",
    "legend = [ONE_PIECE]"
   ]
  },
  {
   "cell_type": "code",
   "execution_count": 65,
   "metadata": {
    "ExecuteTime": {
     "end_time": "2019-03-23T06:46:09.621785Z",
     "start_time": "2019-03-23T06:46:09.494107Z"
    }
   },
   "outputs": [
    {
     "data": {
      "image/png": "[encoded data removed]",
      "text/plain": [
       "<matplotlib.figure.Figure at 0x5fccc50>"
      ]
     },
     "metadata": {},
     "output_type": "display_data"
    }
   ],
   "source": [
    "plt.plot(x, y)\n",
    "plt.xlabel('depth')\n",
    "plt.ylabel('time (ms)')\n",
    "plt.title('whole program run time')\n",
    "plt.grid(True)\n",
    "plt.legend(legend)\n",
    "# plt.savefig(\"test.png\")\n",
    "plt.show()"
   ]
  }
 ],
 "metadata": {
  "hide_input": false,
  "kernelspec": {
   "display_name": "Python 3",
   "language": "python",
   "name": "python3"
  },
  "language_info": {
   "codemirror_mode": {
    "name": "ipython",
    "version": 3
   },
   "file_extension": ".py",
   "mimetype": "text/x-python",
   "name": "python",
   "nbconvert_exporter": "python",
   "pygments_lexer": "ipython3",
   "version": "3.6.3"
  },
  "toc": {
   "nav_menu": {},
   "number_sections": true,
   "sideBar": true,
   "skip_h1_title": false,
   "title_cell": "Table of Contents",
   "title_sidebar": "Contents",
   "toc_cell": true,
   "toc_position": {
    "height": "calc(100% - 180px)",
    "left": "10px",
    "top": "150px",
    "width": "207px"
   },
   "toc_section_display": true,
   "toc_window_display": true
  }
 },
 "nbformat": 4,
 "nbformat_minor": 2
}
